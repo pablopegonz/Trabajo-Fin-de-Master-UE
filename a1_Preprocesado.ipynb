{
 "cells": [
  {
   "cell_type": "code",
   "execution_count": 5,
   "metadata": {},
   "outputs": [],
   "source": [
    "from ultralytics import YOLO\n",
    "import os\n",
    "import shutil\n",
    "import time"
   ]
  },
  {
   "cell_type": "markdown",
   "metadata": {},
   "source": [
    "# Preparación del Dataset.\n",
    "\n",
    "### Material a utilizar:\n",
    "\n",
    "1. Cargar el modelo de deteccion de objetos.\n",
    "    El modelo lo sacamos del paper de Dillon Reis, \"Real-Time Flying Object Detection with YOLOv8\"\n",
    "2. El Dataset lo tenemos descargado en Local.\n",
    "    Proviene de Roboflow -> [Flying Object Detection](https://universe.roboflow.com/new-workspace-0k81p/flying_object_dataset/dataset/2)\n",
    "\n",
    "### Pasos a relizar en este notebook:\n",
    "\n",
    "1. (Paso 1) Las imagenes del dataset vienen con nombres en un formato no valido, asi que le cambiaremos el nombre a todas las imagenes.\n",
    "2. (Paso 2) Pasamos las imagenes por el detector de objetos y guardamos la imagen detectada segun su categoria.\n",
    "    - Si detecta un objeto clase \"Drone\" -> \"Drone\"\n",
    "    - Si etecta un objeto de cualquier otra clase -> \"No Drone\""
   ]
  },
  {
   "cell_type": "code",
   "execution_count": 15,
   "metadata": {},
   "outputs": [],
   "source": [
    "model = YOLO('modelos/00_pred_ue.pt')"
   ]
  },
  {
   "cell_type": "markdown",
   "metadata": {},
   "source": [
    "### Paso 0: Pruebas iniciales para ver con que formato se obtienen los resultados."
   ]
  },
  {
   "cell_type": "code",
   "execution_count": 22,
   "metadata": {},
   "outputs": [
    {
     "name": "stdout",
     "output_type": "stream",
     "text": [
      "\n",
      "image 1/1 c:\\Users\\pabpg\\Desktop\\MasterBD\\TFM\\Train_resize\\dataset_graficas\\images\\0000001.jpg: 640x640 (no detections), 1157.1ms\n",
      "Speed: 7.0ms preprocess, 1157.1ms inference, 1.0ms postprocess per image at shape (1, 3, 640, 640)\n",
      "Results saved to \u001b[1mshared_folder\\hoal11\u001b[0m\n",
      "ultralytics.engine.results.Boxes object with attributes:\n",
      "\n",
      "cls: tensor([])\n",
      "conf: tensor([])\n",
      "data: tensor([], size=(0, 6))\n",
      "id: None\n",
      "is_track: False\n",
      "orig_shape: (416, 416)\n",
      "shape: torch.Size([0, 6])\n",
      "xywh: tensor([], size=(0, 4))\n",
      "xywhn: tensor([], size=(0, 4))\n",
      "xyxy: tensor([], size=(0, 4))\n",
      "xyxyn: tensor([], size=(0, 4))\n",
      "[]\n"
     ]
    }
   ],
   "source": [
    "img_file =  \"./dataset_graficas/images/0000001.jpg\"\n",
    "results = model(source= img_file, save_crop=True, project= './shared_folder', name= 'hoal')\n",
    "print(results[0].boxes)\n",
    "if results:\n",
    "    for r in results:\n",
    "        print(r.boxes.cls.tolist())\n",
    "        if r.boxes.cls.tolist():\n",
    "            print(int(r.boxes.cls.tolist()[0]))\n",
    "else:\n",
    "    print(\"oo\")"
   ]
  },
  {
   "cell_type": "code",
   "execution_count": 16,
   "metadata": {},
   "outputs": [
    {
     "name": "stdout",
     "output_type": "stream",
     "text": [
      "\n",
      "image 1/1 c:\\Users\\pabpg\\Desktop\\MasterBD\\TFM\\Train_resize\\imagenes_v2\\0010624.jpg: 384x640 2 drones, 670.8ms\n",
      "Speed: 3.1ms preprocess, 670.8ms inference, 1.0ms postprocess per image at shape (1, 3, 384, 640)\n",
      "Results saved to \u001b[1mdataset_recortado\\test\\temp\\0001538\u001b[0m\n",
      "ultralytics.engine.results.Boxes object with attributes:\n",
      "\n",
      "cls: tensor([38., 38.])\n",
      "conf: tensor([0.6945, 0.6395])\n",
      "data: tensor([[8.1370e+02, 1.6566e+02, 9.1926e+02, 2.3031e+02, 6.9446e-01, 3.8000e+01],\n",
      "        [1.7470e+02, 1.8672e+02, 2.6978e+02, 2.4052e+02, 6.3952e-01, 3.8000e+01]])\n",
      "id: None\n",
      "is_track: False\n",
      "orig_shape: (720, 1280)\n",
      "shape: torch.Size([2, 6])\n",
      "xywh: tensor([[866.4811, 197.9829, 105.5547,  64.6478],\n",
      "        [222.2412, 213.6226,  95.0732,  53.8029]])\n",
      "xywhn: tensor([[0.6769, 0.2750, 0.0825, 0.0898],\n",
      "        [0.1736, 0.2967, 0.0743, 0.0747]])\n",
      "xyxy: tensor([[813.7037, 165.6590, 919.2584, 230.3068],\n",
      "        [174.7046, 186.7211, 269.7778, 240.5241]])\n",
      "xyxyn: tensor([[0.6357, 0.2301, 0.7182, 0.3199],\n",
      "        [0.1365, 0.2593, 0.2108, 0.3341]])\n"
     ]
    }
   ],
   "source": [
    "results = model(source= \"./imagenes_v2/0010624.jpg\")\n",
    "\n",
    "for result in results:\n",
    "    boxes = result.boxes  \n",
    "    masks = result.masks  \n",
    "    keypoints = result.keypoints\n",
    "    probs = result.boxes.conf\n",
    "    obb = result.obb \n",
    "    print(boxes)\n",
    "    result.show()"
   ]
  },
  {
   "cell_type": "markdown",
   "metadata": {},
   "source": [
    "### Paso 1: Renombrar las imagenes del dataset para que no tengan un nombre tan largo."
   ]
  },
  {
   "cell_type": "code",
   "execution_count": 2,
   "metadata": {},
   "outputs": [
    {
     "name": "stdout",
     "output_type": "stream",
     "text": [
      "Renombrado completo\n"
     ]
    }
   ],
   "source": [
    "\n",
    "directory = './dataset_original/test/labels'\n",
    "\n",
    "\n",
    "files = [f for f in os.listdir(directory) if f.endswith('.txt')]\n",
    "files.sort()\n",
    "\n",
    "\n",
    "for idx, filename in enumerate(files, start=1):\n",
    "    new_name = f\"{idx:07}.txt\"\n",
    "    \n",
    "    src = os.path.join(directory, filename)\n",
    "    dst = os.path.join(directory, new_name)\n",
    "    \n",
    "    os.rename(src, dst)\n",
    "\n",
    "print(\"Renombrado completo\")\n"
   ]
  },
  {
   "cell_type": "markdown",
   "metadata": {},
   "source": [
    "### Paso 2: Recortar las imagenes detectadas y guardarlas segun su clase"
   ]
  },
  {
   "cell_type": "code",
   "execution_count": null,
   "metadata": {},
   "outputs": [],
   "source": [
    "\n",
    "\n",
    "img_dir = './dataset/valid/images'\n",
    "\n",
    "# Carpeta donde se guardarán inicialmente los crops\n",
    "initial_save_path = './dataset_recortado/valid/temp'\n",
    "\n",
    "j = 200001\n",
    "\n",
    "\n",
    "for img_file in os.listdir(img_dir):\n",
    "    \n",
    "    if img_file.endswith(('.jpg', '.jpeg', '.png')):\n",
    "        img_path = os.path.join(img_dir, img_file)\n",
    "\n",
    "        results = model.predict(source=img_path, save_crop=True, project=initial_save_path, name=os.path.splitext(img_file)[0])\n",
    "\n",
    "        # Obtener las clases detectadas\n",
    "        for result in results:\n",
    "            crops_dir = os.path.join(initial_save_path, os.path.splitext(img_file)[0], 'crops')\n",
    "\n",
    "            for i, box in enumerate(result.boxes):\n",
    "                class_id = int(box.cls[0])\n",
    "                class_name = model.names[class_id]\n",
    "\n",
    "                # Definir la carpeta destino basada en la clase detectada\n",
    "                if class_name == 'drone':\n",
    "                    destination_folder = './dataset_recortado/valid/drone'\n",
    "                    print(f'drone {j}')\n",
    "                else:\n",
    "                    destination_folder = './dataset_recortado/valid/no_drone'\n",
    "\n",
    "                # Crear la carpeta destino si no existe\n",
    "                os.makedirs(destination_folder, exist_ok=True)\n",
    "\n",
    "                # Ruta del crop actual\n",
    "                crop_file_name = img_file\n",
    "                crop_file_name_final = f'img{j}.jpg'\n",
    "                crop_path = os.path.join(crops_dir, class_name, crop_file_name)\n",
    "                j += 1\n",
    "\n",
    "                if os.path.exists(crop_path):\n",
    "                    shutil.move(crop_path, os.path.join(destination_folder, crop_file_name_final))\n",
    "                    time.sleep(0.1)\n",
    "\n",
    "\n"
   ]
  },
  {
   "cell_type": "code",
   "execution_count": null,
   "metadata": {},
   "outputs": [],
   "source": [
    "\n",
    "img_dir = './imagenes'\n",
    "initial_save_path = './dataset_recortado/test/temp'\n",
    "\n",
    "j = 300001\n",
    "\n",
    "\n",
    "for img_file in os.listdir(img_dir):\n",
    "    \n",
    "    if img_file.endswith(('.jpg', '.jpeg', '.png')):\n",
    "        img_path = os.path.join(img_dir, img_file)\n",
    "        results = model.predict(source=img_path, save_crop=True, project=initial_save_path, name=os.path.splitext(img_file)[0])\n",
    "\n",
    "        for result in results:\n",
    "            crops_dir = os.path.join(initial_save_path, os.path.splitext(img_file)[0], 'crops')\n",
    "\n",
    "            # Iterar sobre cada resultado y mover los crops a las carpetas correspondientes\n",
    "            for i, box in enumerate(result.boxes):\n",
    "\n",
    "                # Obtener la clase del objeto detectado\n",
    "                class_id = int(box.cls[0])\n",
    "                class_name = model.names[class_id]\n",
    "\n",
    "                # Definir la carpeta destino basada en la clase detectada\n",
    "                if class_name == 'drone':\n",
    "                    destination_folder = './dataset_recortado/test/drone'\n",
    "                    print(f'drone {j}')\n",
    "                else:\n",
    "                    destination_folder = './dataset_recortado/test/no_drone'\n",
    "\n",
    "                # Crear la carpeta destino si no existe\n",
    "                os.makedirs(destination_folder, exist_ok=True)\n",
    "\n",
    "                # Ruta del crop actual\n",
    "                crop_file_name = img_file\n",
    "                crop_file_name_final = f'img{j}.jpg'\n",
    "                crop_path = os.path.join(crops_dir, class_name, crop_file_name)\n",
    "                j += 1\n",
    "\n",
    "                if os.path.exists(crop_path):\n",
    "                    shutil.move(crop_path, os.path.join(destination_folder, crop_file_name_final))\n",
    "                    time.sleep(0.1)\n"
   ]
  }
 ],
 "metadata": {
  "kernelspec": {
   "display_name": "tfm",
   "language": "python",
   "name": "python3"
  },
  "language_info": {
   "codemirror_mode": {
    "name": "ipython",
    "version": 3
   },
   "file_extension": ".py",
   "mimetype": "text/x-python",
   "name": "python",
   "nbconvert_exporter": "python",
   "pygments_lexer": "ipython3",
   "version": "3.12.3"
  }
 },
 "nbformat": 4,
 "nbformat_minor": 2
}
